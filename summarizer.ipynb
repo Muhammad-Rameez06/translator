{
 "cells": [
  {
   "cell_type": "code",
   "execution_count": 21,
   "id": "58e6739f-202a-4bf4-859b-bed8a5dcbf6c",
   "metadata": {},
   "outputs": [
    {
     "name": "stderr",
     "output_type": "stream",
     "text": [
      "All model checkpoint layers were used when initializing TFBartForConditionalGeneration.\n",
      "\n",
      "All the layers of TFBartForConditionalGeneration were initialized from the model checkpoint at E:/Models/bart_model_tf.\n",
      "If your task is similar to the task the model of the checkpoint was trained on, you can already use TFBartForConditionalGeneration for predictions without further training.\n"
     ]
    }
   ],
   "source": [
    "from transformers import AutoTokenizer, TFAutoModelForSeq2SeqLM, pipeline\n",
    "\n",
    "model_path = \"E:/Models/bart_model_tf\"\n",
    "\n",
    "# Load tokenizer and TensorFlow model\n",
    "tokenizer = AutoTokenizer.from_pretrained(model_path, use_fast=False)\n",
    "model = TFAutoModelForSeq2SeqLM.from_pretrained(model_path)\n",
    "\n",
    "# Load summarization pipeline\n",
    "summarizer = pipeline(\"summarization\", model=model, tokenizer=tokenizer)\n"
   ]
  },
  {
   "cell_type": "code",
   "execution_count": 10,
   "id": "8f46bedd-fe43-4610-9ce1-845f39bc0456",
   "metadata": {},
   "outputs": [
    {
     "name": "stdout",
     "output_type": "stream",
     "text": [
      "Requirement already satisfied: PyMuPDF in e:\\anaconda\\lib\\site-packages (1.24.14)\n"
     ]
    }
   ],
   "source": [
    "!pip install PyMuPDF"
   ]
  },
  {
   "cell_type": "code",
   "execution_count": 22,
   "id": "3e057117-ea74-43ca-93d5-9a57c0383c92",
   "metadata": {},
   "outputs": [],
   "source": [
    "import fitz\n",
    "def extract_text_from_pdf(pdf_file):\n",
    "    text = \"\"\n",
    "    #Works with Gradio File object in local environment\n",
    "    with fitz.open(pdf_file.name) as doc:\n",
    "        for page in doc:\n",
    "            text += page.get_text()\n",
    "    return text\n",
    "\n",
    "def summarize_text(text):\n",
    "    if len(text) > 1024:\n",
    "        text = text[:1024]  # Truncate if too long\n",
    "    result = summarizer(text, max_length=250, min_length=60, do_sample=False)\n",
    "    return result[0][\"summary_text\"]\n",
    "\n",
    "def summarize_input(input_text=None, pdf_file=None):\n",
    "    if pdf_file:\n",
    "        text = extract_text_from_pdf(pdf_file)\n",
    "    elif input_text:\n",
    "        text = input_text\n",
    "    else:\n",
    "        return \"Please provide either a PDF or text input.\"\n",
    "    return summarize_text(text)"
   ]
  },
  {
   "cell_type": "code",
   "execution_count": 23,
   "id": "685d788a-e5f9-459f-bca7-44e9634d692c",
   "metadata": {},
   "outputs": [
    {
     "name": "stdout",
     "output_type": "stream",
     "text": [
      "* Running on local URL:  http://127.0.0.1:7867\n",
      "* To create a public link, set `share=True` in `launch()`.\n"
     ]
    },
    {
     "data": {
      "text/html": [
       "<div><iframe src=\"http://127.0.0.1:7867/\" width=\"100%\" height=\"500\" allow=\"autoplay; camera; microphone; clipboard-read; clipboard-write;\" frameborder=\"0\" allowfullscreen></iframe></div>"
      ],
      "text/plain": [
       "<IPython.core.display.HTML object>"
      ]
     },
     "metadata": {},
     "output_type": "display_data"
    },
    {
     "data": {
      "text/plain": []
     },
     "execution_count": 23,
     "metadata": {},
     "output_type": "execute_result"
    }
   ],
   "source": [
    "import gradio as gr\n",
    "\n",
    "def summarize_handler(text, file):\n",
    "    return summarize_input(input_text=text, pdf_file=file)\n",
    "\n",
    "with gr.Blocks() as demo:\n",
    "    gr.Markdown(\"## Smart Document Summarizer (Local Version)\")\n",
    "\n",
    "    with gr.Row():\n",
    "        text_input = gr.Textbox(lines=10, label=\"Enter Text (Optional)\")\n",
    "        file_input = gr.File(label=\"Upload PDF (Optional)\", file_types=[\".pdf\"])\n",
    "\n",
    "    summarize_btn = gr.Button(\"Summarize\")\n",
    "    output = gr.Textbox(label=\"Summary\")\n",
    "\n",
    "    summarize_btn.click(summarize_handler, inputs=[text_input, file_input], outputs=output)\n",
    "\n",
    "demo.launch()\n"
   ]
  },
  {
   "cell_type": "code",
   "execution_count": null,
   "id": "f61d64ef-fae9-4d44-87f8-0044e8b1b59a",
   "metadata": {},
   "outputs": [],
   "source": []
  }
 ],
 "metadata": {
  "kernelspec": {
   "display_name": "Python 3 (ipykernel)",
   "language": "python",
   "name": "python3"
  },
  "language_info": {
   "codemirror_mode": {
    "name": "ipython",
    "version": 3
   },
   "file_extension": ".py",
   "mimetype": "text/x-python",
   "name": "python",
   "nbconvert_exporter": "python",
   "pygments_lexer": "ipython3",
   "version": "3.11.7"
  }
 },
 "nbformat": 4,
 "nbformat_minor": 5
}
